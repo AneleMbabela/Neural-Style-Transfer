{
 "cells": [
  {
   "cell_type": "code",
   "execution_count": 6,
   "metadata": {},
   "outputs": [],
   "source": [
    "# Import required Libraries\n",
    "\n",
    "import cv2\n",
    "import numpy as np"
   ]
  },
  {
   "cell_type": "code",
   "execution_count": 7,
   "metadata": {},
   "outputs": [],
   "source": [
    "# Load the input and image dimensions\n",
    "\n",
    "content_image = cv2.imread(\"./datasets/Anele1.jpg\")\n",
    "(h, w) = content_image.shape[:2]\n",
    "\n",
    "# load the style image for visual purposes only\n",
    "#style_image = cv2.imread(\"./datasets/paper.jpg\")\n",
    "\n",
    "# Load the network from existing torch network\n",
    "net = cv2.dnn.readNetFromTorch(\"./datasets/the_scream.t7\")"
   ]
  },
  {
   "cell_type": "code",
   "execution_count": 8,
   "metadata": {},
   "outputs": [],
   "source": [
    "# Feed image into network and run forward pass\n",
    "blob = cv2.dnn.blobFromImage(content_image, 1.0, (w, h), (103.939, 116.779, 123.680))\n",
    "net.setInput(blob)\n",
    "output = net.forward()"
   ]
  },
  {
   "cell_type": "code",
   "execution_count": 9,
   "metadata": {},
   "outputs": [],
   "source": [
    "# Reshape the output tensor, add back in the mean subtraction, swap channel order4\n",
    "output = output.reshape((3, output.shape[2], output.shape[3]))\n",
    "output[0] += 103.939\n",
    "output[1] += 116.779\n",
    "output[2] += 123.680\n",
    "output /= 255.0\n",
    "output = output.transpose(1, 2, 0)"
   ]
  },
  {
   "cell_type": "code",
   "execution_count": null,
   "metadata": {},
   "outputs": [],
   "source": [
    "# Show images\n",
    "cv2.imshow(\"Input\", content_image)\n",
    "#cv2.imshow(\"Style\", style_image)\n",
    "cv2.imshow(\"Output\", output)\n",
    "cv2.waitKey(0)\n",
    "cv2.destroyAllWindows()"
   ]
  },
  {
   "cell_type": "code",
   "execution_count": null,
   "metadata": {},
   "outputs": [],
   "source": []
  },
  {
   "cell_type": "code",
   "execution_count": null,
   "metadata": {},
   "outputs": [],
   "source": []
  }
 ],
 "metadata": {
  "kernelspec": {
   "display_name": "Python 3",
   "language": "python",
   "name": "python3"
  },
  "language_info": {
   "codemirror_mode": {
    "name": "ipython",
    "version": 3
   },
   "file_extension": ".py",
   "mimetype": "text/x-python",
   "name": "python",
   "nbconvert_exporter": "python",
   "pygments_lexer": "ipython3",
   "version": "3.7.8"
  }
 },
 "nbformat": 4,
 "nbformat_minor": 4
}
